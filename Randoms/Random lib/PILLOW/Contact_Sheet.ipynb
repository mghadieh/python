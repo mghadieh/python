{
 "cells": [
  {
   "cell_type": "markdown",
   "metadata": {},
   "source": [
    "# Building a Contact Sheet\n",
    "Change the colors of an image, creating variations based on a single photo.\n",
    "\n",
    "Each image will have one channel in each sub-image changed. First, the rows are changed by color channel, where the top is the red channel, the middle is the green channel, and the bottom is the blue channel. The change that is made here is the ratio, or intensity, or that channel, in relationship to the other channels. We're going to use three different intensities, 0.1 (reduce the channel a lot), 0.5 (reduce the channel in half), and 0.9 (reduce the channel only a little bit).\n",
    "\n",
    "For instance, a pixel represented as (200, 100, 50) is a sort of burnt orange color. So the top row of changes would create three alternative pixels, varying the first channel (red). one at (20, 100, 50), one at (100, 100, 50), and one at (180, 100, 50). The next row would vary the second channel (blue), and would create pixels of color values (200, 10, 50), (200, 50, 50) and (200, 90, 50).\n"
   ]
  },
  {
   "cell_type": "code",
   "execution_count": null,
   "metadata": {},
   "outputs": [],
   "source": [
    "import PIL\n",
    "from PIL import Image, ImageDraw, ImageFont\n",
    "\n",
    "# read image and convert to RGB\n",
    "image = Image.open(\"readonly/msi_recruitment.gif\")\n",
    "image = image.convert('RGB')\n",
    "#params\n",
    "image_height = image.height\n",
    "image_width = image.width\n",
    "font = ImageFont.truetype(\"readonly/fanwood-webfont.ttf\",55)\n",
    "# build a list of 9 images which have different brightnesses\n",
    "images = []\n",
    "\n",
    "for i in [0.1, 0.5, 0.9]:\n",
    "    for j in range(3):\n",
    "        label = 'channel {} intensity {}'.format(j,i)\n",
    "        piece = PIL.Image.new(image.mode, (image_width, image_height + 55))\n",
    "        draw = ImageDraw.Draw(piece)\n",
    "        draw.text((0,0+image_height + 5), label, font = font)\n",
    "        piece.paste(image)\n",
    "        s = piece.split()\n",
    "        s[j].paste(s[j].point(lambda x: x*i))\n",
    "        im = Image.merge(image.mode, s)\n",
    "        images.append(im)\n",
    "\n",
    "\n",
    "        \n",
    "# create a contact sheet from different brightnesses\n",
    "\n",
    "contact_sheet = PIL.Image.new(image.mode, (image_width *3,image_height * 3 + 55 * 3))\n",
    "draw = ImageDraw.Draw(contact_sheet)\n",
    "\n",
    "x = y = 0\n",
    "for img in images:\n",
    "    # Lets paste the current image into the contact sheet\n",
    "    contact_sheet.paste(img, (x, y) )\n",
    "    # Now we update our X position. If it is going to be the width of the image, then we set it to 0\n",
    "    # and update Y as well to point to the next \"line\" of the contact sheet.\n",
    "    if y + image_height + 55 == contact_sheet.height:\n",
    "        y = 0\n",
    "        x = x + image_width\n",
    "    else:\n",
    "        y = y + image_height + 55\n",
    "\n",
    "# resize and display the contact sheet\n",
    "contact_sheet = contact_sheet.resize((int(contact_sheet.width/2),int(contact_sheet.height/2) ))\n",
    "display(contact_sheet)\n"
   ]
  }
 ],
 "metadata": {
  "kernelspec": {
   "display_name": "Python 3.9.6 64-bit",
   "language": "python",
   "name": "python3"
  },
  "language_info": {
   "codemirror_mode": {
    "name": "ipython",
    "version": 3
   },
   "file_extension": ".py",
   "mimetype": "text/x-python",
   "name": "python",
   "nbconvert_exporter": "python",
   "pygments_lexer": "ipython3",
   "version": "3.9.6"
  },
  "vscode": {
   "interpreter": {
    "hash": "31f2aee4e71d21fbe5cf8b01ff0e069b9275f58929596ceb00d14d90e3e16cd6"
   }
  }
 },
 "nbformat": 4,
 "nbformat_minor": 2
}
