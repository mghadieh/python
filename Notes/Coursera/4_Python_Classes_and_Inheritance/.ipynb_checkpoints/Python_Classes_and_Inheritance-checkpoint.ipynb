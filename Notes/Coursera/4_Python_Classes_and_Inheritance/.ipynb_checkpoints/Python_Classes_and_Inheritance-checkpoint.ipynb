{
 "cells": [
  {
   "cell_type": "markdown",
   "id": "bf531d55",
   "metadata": {},
   "source": [
    "# Course 4: Python Classes and Inheritance"
   ]
  },
  {
   "cell_type": "markdown",
   "id": "12cb896d",
   "metadata": {},
   "source": [
    "## Week 1: Classes"
   ]
  },
  {
   "cell_type": "markdown",
   "id": "118b940e",
   "metadata": {},
   "source": [
    "### Chapter 1: Constructing Classes"
   ]
  },
  {
   "cell_type": "markdown",
   "id": "335e9b4e",
   "metadata": {},
   "source": [
    "#### User-Defined Classes"
   ]
  },
  {
   "cell_type": "markdown",
   "id": "2905cc47",
   "metadata": {},
   "source": [
    "To create a class:"
   ]
  },
  {
   "cell_type": "markdown",
   "id": "aa66359f",
   "metadata": {},
   "source": [
    "#**Code Block**<br>\n",
    "class Point():\n",
    "    pass\n",
    "    \n",
    "point1 = Point()\n",
    "print(point1)\n",
    "\n",
    "point1.x = 5\n",
    "print(point1.x)"
   ]
  },
  {
   "cell_type": "markdown",
   "id": "f3a62369",
   "metadata": {},
   "source": [
    "---"
   ]
  },
  {
   "cell_type": "markdown",
   "id": "79caebb9",
   "metadata": {},
   "source": [
    "Instead of doing point1.x, we can create a get function to retrieve the value of x"
   ]
  },
  {
   "cell_type": "markdown",
   "id": "ba7a62e6",
   "metadata": {},
   "source": [
    "#**Code Block**<br>\n",
    "class Point():\n",
    "    def getX(self):\n",
    "        return self.x\n",
    "    \n",
    "point1 = Point()\n",
    "point2 = Point()\n",
    "\n",
    "point1.x = 5\n",
    "point2.x = 10\n",
    "\n",
    "print(point1.getX())\n",
    "print(point2.getX())"
   ]
  },
  {
   "cell_type": "markdown",
   "id": "df0ec146",
   "metadata": {},
   "source": [
    "#### Adding Constructor and Parameters"
   ]
  },
  {
   "cell_type": "markdown",
   "id": "2b2ec3dc",
   "metadata": {},
   "source": [
    "**DocstringS:** is used to add documentation to a piece of code in python. For more info: https://www.geeksforgeeks.org/python-docstrings/\n",
    "\n",
    "**Constructor:** is automatically called whenever a new instance of Point is created. It gives the programmer the opportunity to set up the attributes required within the new instance by giving them their initial state values. The self parameter (you could choose any other name, but nobody ever does!) is automatically set to reference the newly created object that needs to be initialized.\n",
    "\n",
    "**Self param:** the self parameter represents the object it self. For example, assume we have a list object called L, and we want to append 'abc' => the code will be L.append('abc'). The append method has two parameters: self and a value where self (in this case) is the list L and value is 'abc'. ***That is why self needs to be the first parameter in all methods created under a class.***"
   ]
  },
  {
   "cell_type": "markdown",
   "id": "0dd1b4d1",
   "metadata": {},
   "source": [
    "#**Code Block**<br>\n",
    "class Point:\n",
    "    # beginning of docstring\n",
    "    \"\"\" Point class for representing and manipulating x,y coordinates. \"\"\"\n",
    "    #end of docstring\n",
    "    \n",
    "    def __init__(self, initX, initY):\n",
    "\n",
    "        self.x = initX\n",
    "        self.y = initY\n",
    "\n",
    "p = Point(7,6)\n"
   ]
  },
  {
   "cell_type": "markdown",
   "id": "c62bbbe6",
   "metadata": {},
   "source": [
    "---"
   ]
  },
  {
   "cell_type": "markdown",
   "id": "f920b77f",
   "metadata": {},
   "source": [
    "#### Adding other Methods to a Class"
   ]
  },
  {
   "cell_type": "markdown",
   "id": "841bffbd",
   "metadata": {},
   "source": [
    "#**Code Block**<br>\n",
    "class Point:\n",
    "    \"\"\" Point class for representing and manipulating x,y coordinates. \"\"\"\n",
    "\n",
    "    def __init__(self, initX, initY):\n",
    "\n",
    "        self.x = initX\n",
    "        self.y = initY\n",
    "\n",
    "    def getX(self):\n",
    "        return self.x\n",
    "\n",
    "    def getY(self):\n",
    "        return self.y\n",
    "\n",
    "\n",
    "p = Point(7,6)\n",
    "print(p.getX())\n",
    "print(p.getY())"
   ]
  },
  {
   "cell_type": "markdown",
   "id": "f4121cee",
   "metadata": {},
   "source": [
    "### Chapter 2: Objects and Instances"
   ]
  },
  {
   "cell_type": "markdown",
   "id": "854c5df4",
   "metadata": {},
   "source": [
    "#### Converting an Object to a String"
   ]
  },
  {
   "cell_type": "markdown",
   "id": "4ebe1e19",
   "metadata": {},
   "source": [
    "#**Code Block**<br>\n",
    "class Point: #<br>\n",
    "    \"\"\" Point class for representing and manipulating x,y coordinates. \"\"\"\n",
    "\n",
    "    def __init__(self, initX, initY):\n",
    "\n",
    "        self.x = initX\n",
    "        self.y = initY\n",
    "\n",
    "    def getX(self):\n",
    "        return self.x\n",
    "\n",
    "    def getY(self):\n",
    "        return self.y\n",
    "    \n",
    "    def __str__(self):\n",
    "        return 'Coordinates are ({},{})'.format(self.x,self.y)\n",
    "p = Point(4,9)\n",
    "print(p)"
   ]
  },
  {
   "cell_type": "markdown",
   "id": "e3f7f5f9",
   "metadata": {},
   "source": [
    "#### Special double underscore methods"
   ]
  },
  {
   "cell_type": "markdown",
   "id": "08e68a7e",
   "metadata": {},
   "source": [
    "* __init__ : constructor\n",
    "* __str__  : override the print method\n",
    "* def __add__(self,otherPoint):<br>\n",
    "    return Point(self.x + otherPoint.x, self.y + otherPoint.y)\n",
    "* __sub__ (similar format to __add__"
   ]
  },
  {
   "cell_type": "markdown",
   "id": "eb461783",
   "metadata": {},
   "source": [
    "#### Instances as Return Values"
   ]
  },
  {
   "cell_type": "markdown",
   "id": "06677913",
   "metadata": {},
   "source": [
    "Inside the class, you can call the constructor of the class to create an object of that class and return it. In the code snippet below, the method halfway gets the midpoint between 'self' and another point, and returns a point object (Midpoint)."
   ]
  },
  {
   "cell_type": "markdown",
   "id": "c1cb2c1a",
   "metadata": {},
   "source": [
    "#**Code Block**<br>\n",
    "class Point:\n",
    "\n",
    "    def __init__(self, initX, initY):\n",
    "\n",
    "        self.x = initX\n",
    "        self.y = initY\n",
    "\n",
    "    def getX(self):\n",
    "        return self.x\n",
    "\n",
    "    def getY(self):\n",
    "        return self.y\n",
    "\n",
    "    def distanceFromOrigin(self):\n",
    "        return ((self.x ** 2) + (self.y ** 2)) ** 0.5\n",
    "\n",
    "    def __str__(self):\n",
    "        return \"x = {}, y = {}\".format(self.x, self.y)\n",
    "\n",
    "    def halfway(self, target):\n",
    "        mx = (self.x + target.x)/2\n",
    "        my = (self.y + target.y)/2\n",
    "        return Point(mx, my)\n",
    "\n",
    "p = Point(3,4)\n",
    "q = Point(5,12)\n",
    "mid = p.halfway(q)\n",
    "\n",
    "#note that you would have exactly the same result if you instead wrote\n",
    "#mid = q.halfway(p)\n",
    "#because they are both Point objects, and the middle is the same no matter what\n",
    "\n",
    "print(mid)\n",
    "print(mid.getX())\n",
    "print(mid.getY())"
   ]
  },
  {
   "cell_type": "markdown",
   "id": "32255b6a",
   "metadata": {},
   "source": [
    "#### Sorting Lists of Instances"
   ]
  },
  {
   "cell_type": "markdown",
   "id": "7a32363f",
   "metadata": {},
   "source": [
    "* sorted() function is used\n",
    "* key param will take a sorting function we define (a function, method or a lambda function)\n",
    "    * sorted(L, key=lambda x: x.price) -> this will return a sorted version of list L based on the price attribute of each object."
   ]
  },
  {
   "cell_type": "markdown",
   "id": "8e4c7fc1",
   "metadata": {},
   "source": [
    "#**Code Block**<br>\n",
    "class Fruit():\n",
    "    def __init__(self, name, price):\n",
    "        self.name = name\n",
    "        self.price = price\n",
    "\n",
    "L = [Fruit(\"Cherry\", 10), Fruit(\"Apple\", 5), Fruit(\"Blueberry\", 20)]\n",
    "for f in sorted(L, key=lambda x: x.price):\n",
    "    print(f.name)"
   ]
  },
  {
   "cell_type": "markdown",
   "id": "43594fe2",
   "metadata": {},
   "source": [
    "#### Class Variables and Instance Variables"
   ]
  },
  {
   "cell_type": "markdown",
   "id": "2b1117b5",
   "metadata": {},
   "source": [
    "* Class variables are variables defined inside the class including methods\n",
    "* Instance variables are variables that belong to each instance of the class\n",
    "    * example code block below\n",
    "        * printed_rep and all the methods inside the class are class variables; printed_rep is the same in all instances of class Point\n",
    "        * In p1 = Point(2, 3) and p2 = Point(3, 12), the values passed into Point are instance variables, thus x and y in the class are instance variables because these values change from one instance to another."
   ]
  },
  {
   "cell_type": "markdown",
   "id": "9c06b860",
   "metadata": {},
   "source": [
    "#**Code Block** <br>\n",
    "class Point:#<br>\n",
    "    \"\"\" Point class for representing and manipulating x,y coordinates. \"\"\"\n",
    "\n",
    "    printed_rep = \"*\"\n",
    "\n",
    "    def __init__(self, initX, initY):\n",
    "\n",
    "        self.x = initX\n",
    "        self.y = initY\n",
    "\n",
    "    def graph(self):\n",
    "        rows = []\n",
    "        size = max(int(self.x), int(self.y)) + 2\n",
    "        for j in range(size-1) :\n",
    "            if (j+1) == int(self.y):\n",
    "                special_row = str((j+1) % 10) + (\" \"*(int(self.x) -1)) + self.printed_rep\n",
    "                rows.append(special_row)\n",
    "            else:\n",
    "                rows.append(str((j+1) % 10))\n",
    "        rows.reverse()  # put higher values of y first\n",
    "        x_axis = \"\"\n",
    "        for i in range(size):\n",
    "            x_axis += str(i % 10)\n",
    "        rows.append(x_axis)\n",
    "\n",
    "        return \"\\n\".join(rows)\n",
    "\n",
    "\n",
    "p1 = Point(2, 3) #<br>\n",
    "p2 = Point(3, 12) #<br>\n",
    "print(p1.graph()) #<br>\n",
    "print() #<br>\n",
    "print(p2.graph()) #<br>"
   ]
  },
  {
   "cell_type": "markdown",
   "id": "2a43bc0f",
   "metadata": {},
   "source": [
    "#### Think about classes and instances\n",
    "Before writing code for class, ask yourself the following questions:\n",
    "1- What kind of data do you want to represent with your class?\n",
    "2- what does an instance represent of this class?\n",
    "3- What are the instance variables? (unique variables to each instance)\n",
    "4- What methods are needed?\n",
    "5- What is a printed representation of instance look like?"
   ]
  },
  {
   "cell_type": "markdown",
   "id": "f5c3c999",
   "metadata": {},
   "source": [
    "#### Graded Assignment:"
   ]
  },
  {
   "cell_type": "code",
   "execution_count": 11,
   "id": "9a8466d2",
   "metadata": {},
   "outputs": [
    {
     "name": "stdout",
     "output_type": "stream",
     "text": [
      "AppleBasket class test: A basket of 4 red apples.\n",
      "Your account, Bob, has 100 dollars.\n"
     ]
    }
   ],
   "source": [
    "# Define a class called Bike that accepts a string and a float as input, and assigns those inputs respectively to\n",
    "# two instance variables, color and price. Assign to the variable testOne an instance of Bike whose color is blue\n",
    "# and whose price is 89.99. Assign to the variable testTwo an instance of Bike whose color is purple and whose\n",
    "# price is 25.0.\n",
    "class Bike:\n",
    "    def __init__(self,s,f):\n",
    "        self.color = s\n",
    "        self.price = f\n",
    "        \n",
    "testOne = Bike('blue', 89.99)\n",
    "testTwo = Bike('purple', 25.0)\n",
    "\n",
    "#Create a class called AppleBasket whose constructor accepts two inputs: a string representing a color, and a\n",
    "# number representing a quantity of apples. The constructor should initialize two instance variables: apple_color\n",
    "# and apple_quantity. Write a class method called increase that increases the quantity by 1 each time it is invoked.\n",
    "# You should also write a __str__ method for this class that returns a string of the format: \"A basket of [quantity\n",
    "# goes here] [color goes here] apples.\" e.g. \"A basket of 4 red apples.\" or \"A basket of 50 blue apples.\" (Writing\n",
    "# some test code that creates instances and assigns values to variables may help you solve this problem!)\n",
    "class AppleBasket():\n",
    "    def __init__(self,s, q):\n",
    "        self.apple_color = s\n",
    "        self.apple_quantity = q\n",
    "        \n",
    "    def increase(self):\n",
    "        self.apple_quantity += 1\n",
    "        \n",
    "    def __str__(self):\n",
    "        return \"A basket of {} {} apples.\".format(self.apple_quantity, self.apple_color)\n",
    "        \n",
    "test1 = AppleBasket('red',4)\n",
    "print('AppleBasket class test: ' + str(test1))\n",
    "\n",
    "# Define a class called BankAccount that accepts the name you want associated with your bank account in a string,\n",
    "# and an integer that represents the amount of money in the account. The constructor should initialize two instance\n",
    "# variables from those inputs: name and amt. Add a string method so that when you print an instance of BankAccount,\n",
    "# you see \"Your account, [name goes here], has [start_amt goes here] dollars.\" Create an instance of this class\n",
    "# with \"Bob\" as the name and 100 as the amount. Save this to the variable t1.\n",
    "class BankAccount:\n",
    "    def __init__(self,name,x):\n",
    "        self.name = name\n",
    "        self.amt = x\n",
    "    def __str__(self):\n",
    "        return \"Your account, {}, has {} dollars.\".format(self.name,self.amt)\n",
    "\n",
    "t1 = BankAccount('Bob',100)\n",
    "print (t1)"
   ]
  },
  {
   "cell_type": "markdown",
   "id": "11659dd0",
   "metadata": {},
   "source": [
    "## Week 2: Inheritance"
   ]
  },
  {
   "cell_type": "markdown",
   "id": "4d290cbf",
   "metadata": {},
   "source": [
    "### Chapter 3: Inheritance"
   ]
  },
  {
   "cell_type": "markdown",
   "id": "c8be12f0",
   "metadata": {},
   "source": [
    "## Week 3: Unit Testing and Exceptions"
   ]
  },
  {
   "cell_type": "markdown",
   "id": "43122f3f",
   "metadata": {},
   "source": [
    "### Chapter 4: Writing Test Cases"
   ]
  },
  {
   "cell_type": "markdown",
   "id": "cba59571",
   "metadata": {},
   "source": [
    "### Chapter 5: Exceptions"
   ]
  }
 ],
 "metadata": {
  "kernelspec": {
   "display_name": "Python 3 (ipykernel)",
   "language": "python",
   "name": "python3"
  },
  "language_info": {
   "codemirror_mode": {
    "name": "ipython",
    "version": 3
   },
   "file_extension": ".py",
   "mimetype": "text/x-python",
   "name": "python",
   "nbconvert_exporter": "python",
   "pygments_lexer": "ipython3",
   "version": "3.9.6"
  },
  "vscode": {
   "interpreter": {
    "hash": "aee8b7b246df8f9039afb4144a1f6fd8d2ca17a180786b69acc140d282b71a49"
   }
  }
 },
 "nbformat": 4,
 "nbformat_minor": 5
}
