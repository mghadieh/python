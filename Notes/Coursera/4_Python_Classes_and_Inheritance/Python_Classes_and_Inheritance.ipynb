{
 "cells": [
  {
   "cell_type": "markdown",
   "id": "bf531d55",
   "metadata": {},
   "source": [
    "# Course 4: Python Classes and Inheritance"
   ]
  },
  {
   "cell_type": "markdown",
   "id": "12cb896d",
   "metadata": {},
   "source": [
    "## Week 1: Classes"
   ]
  },
  {
   "cell_type": "markdown",
   "id": "118b940e",
   "metadata": {},
   "source": [
    "### Chapter 1: Constructing Classes"
   ]
  },
  {
   "cell_type": "markdown",
   "id": "335e9b4e",
   "metadata": {},
   "source": [
    "#### User-Defined Classes"
   ]
  },
  {
   "cell_type": "markdown",
   "id": "2905cc47",
   "metadata": {},
   "source": [
    "To create a class:"
   ]
  },
  {
   "cell_type": "markdown",
   "id": "aa66359f",
   "metadata": {},
   "source": [
    "#**code block**\n",
    "class Point():\n",
    "    pass\n",
    "    \n",
    "point1 = Point()\n",
    "print(point1)\n",
    "\n",
    "point1.x = 5\n",
    "print(point1.x)"
   ]
  },
  {
   "cell_type": "markdown",
   "id": "f3a62369",
   "metadata": {},
   "source": [
    "---"
   ]
  },
  {
   "cell_type": "markdown",
   "id": "79caebb9",
   "metadata": {},
   "source": [
    "Instead of doing point1.x, we can create a get function to retrieve the value of x"
   ]
  },
  {
   "cell_type": "markdown",
   "id": "ba7a62e6",
   "metadata": {},
   "source": [
    "#**Code block**\n",
    "class Point():\n",
    "    def getX(self):\n",
    "        return self.x\n",
    "    \n",
    "point1 = Point()\n",
    "point2 = Point()\n",
    "\n",
    "point1.x = 5\n",
    "point2.x = 10\n",
    "\n",
    "print(point1.getX())\n",
    "print(point2.getX())"
   ]
  },
  {
   "cell_type": "markdown",
   "id": "df0ec146",
   "metadata": {},
   "source": [
    "#### Adding Constructor and Parameters"
   ]
  },
  {
   "cell_type": "markdown",
   "id": "2b2ec3dc",
   "metadata": {},
   "source": [
    "**DocstringS:** is used to add documentation to a piece of code in python. For more info: https://www.geeksforgeeks.org/python-docstrings/\n",
    "\n",
    "**Constructor:** is automatically called whenever a new instance of Point is created. It gives the programmer the opportunity to set up the attributes required within the new instance by giving them their initial state values. The self parameter (you could choose any other name, but nobody ever does!) is automatically set to reference the newly created object that needs to be initialized.\n",
    "\n",
    "**Self param:** the self parameter represents the object it self. For example, assume we have a list object called L, and we want to append 'abc' => the code will be L.append('abc'). The append method has two parameters: self and a value where self (in this case) is the list L and value is 'abc'. ***That is why self needs to be the first parameter in all methods created under a class.***"
   ]
  },
  {
   "cell_type": "markdown",
   "id": "0dd1b4d1",
   "metadata": {},
   "source": [
    "#**Code Block\n",
    "class Point:\n",
    "    # beginning of docstring\n",
    "    \"\"\" Point class for representing and manipulating x,y coordinates. \"\"\"\n",
    "    #end of docstring\n",
    "    \n",
    "    def __init__(self, initX, initY):\n",
    "\n",
    "        self.x = initX\n",
    "        self.y = initY\n",
    "\n",
    "p = Point(7,6)\n"
   ]
  },
  {
   "cell_type": "markdown",
   "id": "c62bbbe6",
   "metadata": {},
   "source": [
    "---"
   ]
  },
  {
   "cell_type": "markdown",
   "id": "f920b77f",
   "metadata": {},
   "source": [
    "#### Adding other Methods to a Class"
   ]
  },
  {
   "cell_type": "markdown",
   "id": "841bffbd",
   "metadata": {},
   "source": [
    "#**Code Block\n",
    "class Point:\n",
    "    \"\"\" Point class for representing and manipulating x,y coordinates. \"\"\"\n",
    "\n",
    "    def __init__(self, initX, initY):\n",
    "\n",
    "        self.x = initX\n",
    "        self.y = initY\n",
    "\n",
    "    def getX(self):\n",
    "        return self.x\n",
    "\n",
    "    def getY(self):\n",
    "        return self.y\n",
    "\n",
    "\n",
    "p = Point(7,6)\n",
    "print(p.getX())\n",
    "print(p.getY())"
   ]
  },
  {
   "cell_type": "markdown",
   "id": "f4121cee",
   "metadata": {},
   "source": [
    "### Chapter 2: Objects and Instances"
   ]
  },
  {
   "cell_type": "markdown",
   "id": "11659dd0",
   "metadata": {},
   "source": [
    "## Week 2: Inheritance"
   ]
  },
  {
   "cell_type": "markdown",
   "id": "4d290cbf",
   "metadata": {},
   "source": [
    "### Chapter 3: Inheritance"
   ]
  },
  {
   "cell_type": "markdown",
   "id": "c8be12f0",
   "metadata": {},
   "source": [
    "## Week 3: Unit Testing and Exceptions"
   ]
  },
  {
   "cell_type": "markdown",
   "id": "43122f3f",
   "metadata": {},
   "source": [
    "### Chapter 4: Writing Test Cases"
   ]
  },
  {
   "cell_type": "code",
   "execution_count": null,
   "id": "8bfcea4f",
   "metadata": {},
   "outputs": [],
   "source": []
  },
  {
   "cell_type": "markdown",
   "id": "cba59571",
   "metadata": {},
   "source": [
    "### Chapter 5: Exceptions"
   ]
  },
  {
   "cell_type": "code",
   "execution_count": null,
   "id": "e0358d17",
   "metadata": {},
   "outputs": [],
   "source": []
  }
 ],
 "metadata": {
  "kernelspec": {
   "display_name": "Python 3 (ipykernel)",
   "language": "python",
   "name": "python3"
  },
  "language_info": {
   "codemirror_mode": {
    "name": "ipython",
    "version": 3
   },
   "file_extension": ".py",
   "mimetype": "text/x-python",
   "name": "python",
   "nbconvert_exporter": "python",
   "pygments_lexer": "ipython3",
   "version": "3.9.6"
  },
  "vscode": {
   "interpreter": {
    "hash": "aee8b7b246df8f9039afb4144a1f6fd8d2ca17a180786b69acc140d282b71a49"
   }
  }
 },
 "nbformat": 4,
 "nbformat_minor": 5
}
